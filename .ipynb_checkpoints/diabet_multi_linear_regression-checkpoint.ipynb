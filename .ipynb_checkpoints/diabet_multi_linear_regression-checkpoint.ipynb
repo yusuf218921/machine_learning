{
 "cells": [
  {
   "cell_type": "markdown",
   "id": "9b69ac05",
   "metadata": {},
   "source": [
    "KÜTÜPHANELER\n"
   ]
  },
  {
   "cell_type": "code",
   "execution_count": 1,
   "id": "9303c025",
   "metadata": {},
   "outputs": [],
   "source": [
    "import pandas as pd\n",
    "import numpy as np\n",
    "from sklearn.model_selection import train_test_split\n",
    "from sklearn.preprocessing import MinMaxScaler\n",
    "from sklearn.linear_model import LinearRegression\n",
    "from sklearn.metrics import accuracy_score, classification_report\n",
    "from sklearn.metrics import confusion_matrix"
   ]
  },
  {
   "cell_type": "markdown",
   "id": "5410e99f",
   "metadata": {},
   "source": [
    "VERİYİ ÇEKME\n"
   ]
  },
  {
   "cell_type": "code",
   "execution_count": 2,
   "id": "86d1c700",
   "metadata": {},
   "outputs": [
    {
     "data": {
      "text/html": [
       "<div>\n",
       "<style scoped>\n",
       "    .dataframe tbody tr th:only-of-type {\n",
       "        vertical-align: middle;\n",
       "    }\n",
       "\n",
       "    .dataframe tbody tr th {\n",
       "        vertical-align: top;\n",
       "    }\n",
       "\n",
       "    .dataframe thead th {\n",
       "        text-align: right;\n",
       "    }\n",
       "</style>\n",
       "<table border=\"1\" class=\"dataframe\">\n",
       "  <thead>\n",
       "    <tr style=\"text-align: right;\">\n",
       "      <th></th>\n",
       "      <th>Pregnant Number</th>\n",
       "      <th>Plasma Glucose</th>\n",
       "      <th>Diolastic Blood Pressure(mm Hg)</th>\n",
       "      <th>Triceps Skinfold Thickness(mm)</th>\n",
       "      <th>2-Hours Serum Insulin(mu U/ml)</th>\n",
       "      <th>Body Mass Index</th>\n",
       "      <th>Diabetes Pedigree Function</th>\n",
       "      <th>Age</th>\n",
       "      <th>Diabet</th>\n",
       "    </tr>\n",
       "  </thead>\n",
       "  <tbody>\n",
       "    <tr>\n",
       "      <th>0</th>\n",
       "      <td>6</td>\n",
       "      <td>148</td>\n",
       "      <td>72</td>\n",
       "      <td>35</td>\n",
       "      <td>0</td>\n",
       "      <td>33.6</td>\n",
       "      <td>0.627</td>\n",
       "      <td>50</td>\n",
       "      <td>1</td>\n",
       "    </tr>\n",
       "    <tr>\n",
       "      <th>1</th>\n",
       "      <td>1</td>\n",
       "      <td>85</td>\n",
       "      <td>66</td>\n",
       "      <td>29</td>\n",
       "      <td>0</td>\n",
       "      <td>26.6</td>\n",
       "      <td>0.351</td>\n",
       "      <td>31</td>\n",
       "      <td>0</td>\n",
       "    </tr>\n",
       "    <tr>\n",
       "      <th>2</th>\n",
       "      <td>8</td>\n",
       "      <td>183</td>\n",
       "      <td>64</td>\n",
       "      <td>0</td>\n",
       "      <td>0</td>\n",
       "      <td>23.3</td>\n",
       "      <td>0.672</td>\n",
       "      <td>32</td>\n",
       "      <td>1</td>\n",
       "    </tr>\n",
       "    <tr>\n",
       "      <th>3</th>\n",
       "      <td>1</td>\n",
       "      <td>89</td>\n",
       "      <td>66</td>\n",
       "      <td>23</td>\n",
       "      <td>94</td>\n",
       "      <td>28.1</td>\n",
       "      <td>0.167</td>\n",
       "      <td>21</td>\n",
       "      <td>0</td>\n",
       "    </tr>\n",
       "    <tr>\n",
       "      <th>4</th>\n",
       "      <td>0</td>\n",
       "      <td>137</td>\n",
       "      <td>40</td>\n",
       "      <td>35</td>\n",
       "      <td>168</td>\n",
       "      <td>43.1</td>\n",
       "      <td>2.288</td>\n",
       "      <td>33</td>\n",
       "      <td>1</td>\n",
       "    </tr>\n",
       "    <tr>\n",
       "      <th>...</th>\n",
       "      <td>...</td>\n",
       "      <td>...</td>\n",
       "      <td>...</td>\n",
       "      <td>...</td>\n",
       "      <td>...</td>\n",
       "      <td>...</td>\n",
       "      <td>...</td>\n",
       "      <td>...</td>\n",
       "      <td>...</td>\n",
       "    </tr>\n",
       "    <tr>\n",
       "      <th>763</th>\n",
       "      <td>10</td>\n",
       "      <td>101</td>\n",
       "      <td>76</td>\n",
       "      <td>48</td>\n",
       "      <td>180</td>\n",
       "      <td>32.9</td>\n",
       "      <td>0.171</td>\n",
       "      <td>63</td>\n",
       "      <td>0</td>\n",
       "    </tr>\n",
       "    <tr>\n",
       "      <th>764</th>\n",
       "      <td>2</td>\n",
       "      <td>122</td>\n",
       "      <td>70</td>\n",
       "      <td>27</td>\n",
       "      <td>0</td>\n",
       "      <td>36.8</td>\n",
       "      <td>0.340</td>\n",
       "      <td>27</td>\n",
       "      <td>0</td>\n",
       "    </tr>\n",
       "    <tr>\n",
       "      <th>765</th>\n",
       "      <td>5</td>\n",
       "      <td>121</td>\n",
       "      <td>72</td>\n",
       "      <td>23</td>\n",
       "      <td>112</td>\n",
       "      <td>26.2</td>\n",
       "      <td>0.245</td>\n",
       "      <td>30</td>\n",
       "      <td>0</td>\n",
       "    </tr>\n",
       "    <tr>\n",
       "      <th>766</th>\n",
       "      <td>1</td>\n",
       "      <td>126</td>\n",
       "      <td>60</td>\n",
       "      <td>0</td>\n",
       "      <td>0</td>\n",
       "      <td>30.1</td>\n",
       "      <td>0.349</td>\n",
       "      <td>47</td>\n",
       "      <td>1</td>\n",
       "    </tr>\n",
       "    <tr>\n",
       "      <th>767</th>\n",
       "      <td>1</td>\n",
       "      <td>93</td>\n",
       "      <td>70</td>\n",
       "      <td>31</td>\n",
       "      <td>0</td>\n",
       "      <td>30.4</td>\n",
       "      <td>0.315</td>\n",
       "      <td>23</td>\n",
       "      <td>0</td>\n",
       "    </tr>\n",
       "  </tbody>\n",
       "</table>\n",
       "<p>768 rows × 9 columns</p>\n",
       "</div>"
      ],
      "text/plain": [
       "     Pregnant Number  Plasma Glucose  Diolastic Blood Pressure(mm Hg)  \\\n",
       "0                  6             148                               72   \n",
       "1                  1              85                               66   \n",
       "2                  8             183                               64   \n",
       "3                  1              89                               66   \n",
       "4                  0             137                               40   \n",
       "..               ...             ...                              ...   \n",
       "763               10             101                               76   \n",
       "764                2             122                               70   \n",
       "765                5             121                               72   \n",
       "766                1             126                               60   \n",
       "767                1              93                               70   \n",
       "\n",
       "     Triceps Skinfold Thickness(mm)  2-Hours Serum Insulin(mu U/ml)  \\\n",
       "0                                35                               0   \n",
       "1                                29                               0   \n",
       "2                                 0                               0   \n",
       "3                                23                              94   \n",
       "4                                35                             168   \n",
       "..                              ...                             ...   \n",
       "763                              48                             180   \n",
       "764                              27                               0   \n",
       "765                              23                             112   \n",
       "766                               0                               0   \n",
       "767                              31                               0   \n",
       "\n",
       "     Body Mass Index  Diabetes Pedigree Function  Age  Diabet  \n",
       "0               33.6                       0.627   50       1  \n",
       "1               26.6                       0.351   31       0  \n",
       "2               23.3                       0.672   32       1  \n",
       "3               28.1                       0.167   21       0  \n",
       "4               43.1                       2.288   33       1  \n",
       "..               ...                         ...  ...     ...  \n",
       "763             32.9                       0.171   63       0  \n",
       "764             36.8                       0.340   27       0  \n",
       "765             26.2                       0.245   30       0  \n",
       "766             30.1                       0.349   47       1  \n",
       "767             30.4                       0.315   23       0  \n",
       "\n",
       "[768 rows x 9 columns]"
      ]
     },
     "execution_count": 2,
     "metadata": {},
     "output_type": "execute_result"
    }
   ],
   "source": [
    "df = pd.read_csv(\"veri-seti.csv\")\n",
    "df"
   ]
  },
  {
   "cell_type": "markdown",
   "id": "21e62e69",
   "metadata": {},
   "source": [
    "VERIYI MAKINE OGRENMESI ICIN HAZIRLAMA\n"
   ]
  },
  {
   "cell_type": "code",
   "execution_count": 3,
   "id": "cc57edce",
   "metadata": {},
   "outputs": [],
   "source": [
    "X = df.drop(columns=['Diabet'])\n",
    "y = df['Diabet']"
   ]
  },
  {
   "cell_type": "code",
   "execution_count": 4,
   "id": "cbd68035",
   "metadata": {
    "scrolled": true
   },
   "outputs": [],
   "source": [
    "x_train, x_test, y_train, y_test = train_test_split(X, y, test_size=0.3, random_state=23)"
   ]
  },
  {
   "cell_type": "code",
   "execution_count": 5,
   "id": "04c878fd",
   "metadata": {},
   "outputs": [],
   "source": [
    "scaler = MinMaxScaler()\n",
    "X_train = scaler.fit_transform(x_train)\n",
    "X_test = scaler.transform(x_test)"
   ]
  },
  {
   "cell_type": "markdown",
   "id": "e0b6cece",
   "metadata": {},
   "source": [
    "ÇOKLU DOGRUSAL REGRESYON MODELI OLUSTURMA"
   ]
  },
  {
   "cell_type": "code",
   "execution_count": 11,
   "id": "3bbe8ab0",
   "metadata": {
    "scrolled": true
   },
   "outputs": [
    {
     "name": "stdout",
     "output_type": "stream",
     "text": [
      "Doğrusal Regresyon Katsayıları:\n",
      "Pregnant Number : 0.21036907085061463\n",
      "Plasma Glucose : 1.346654196839101\n",
      "Diolastic Blood Pressure(mm Hg) : -0.2719481061758857\n",
      "Triceps Skinfold Thickness(mm) : -0.032658460267958156\n",
      "2-Hours Serum Insulin(mu U/ml) : -0.1798254804602495\n",
      "Body Mass Index : 0.8249883350022446\n",
      "Diabetes Pedigree Function : 0.30792484834091355\n",
      "Age : 0.12423495568393728\n",
      "\n",
      "Kesim Noktası (Intercept): -0.8109216706996949\n"
     ]
    }
   ],
   "source": [
    "from sklearn.linear_model import LinearRegression\n",
    "import numpy as np\n",
    "\n",
    "linear_reg = LinearRegression()\n",
    "linear_reg.fit(X_train, y_train)\n",
    "\n",
    "threshold = 0.5\n",
    "\n",
    "linear_reg_predictions = linear_reg.predict(X_test)\n",
    "\n",
    "binary_predictions = [1 if prediction >= threshold else 0 for prediction in linear_reg_predictions]\n",
    "\n",
    "# Doğrusal regresyon modelinin katsayılarını raporlama\n",
    "coefficients = linear_reg.coef_\n",
    "intercept = linear_reg.intercept_\n",
    "\n",
    "print(\"Doğrusal Regresyon Katsayıları:\")\n",
    "for feature, coef in zip(X.columns, coefficients):\n",
    "    print(feature, \":\", coef)\n",
    "\n",
    "print(\"\\nKesim Noktası (Intercept):\", intercept)"
   ]
  },
  {
   "cell_type": "markdown",
   "id": "b8cea067",
   "metadata": {},
   "source": [
    "CONFUSION MATRIX REPORT VE HEATMAP"
   ]
  },
  {
   "cell_type": "code",
   "execution_count": 9,
   "id": "aade8502",
   "metadata": {},
   "outputs": [
    {
     "name": "stdout",
     "output_type": "stream",
     "text": [
      "Confusion Matrix:\n",
      "[[134  14]\n",
      " [ 35  48]]\n",
      "\n",
      "Classification Report:\n",
      "              precision    recall  f1-score   support\n",
      "\n",
      "           0       0.79      0.91      0.85       148\n",
      "           1       0.77      0.58      0.66        83\n",
      "\n",
      "    accuracy                           0.79       231\n",
      "   macro avg       0.78      0.74      0.75       231\n",
      "weighted avg       0.79      0.79      0.78       231\n",
      "\n"
     ]
    },
    {
     "data": {
      "image/png": "[encoded data removed]",
      "text/plain": [
       "<Figure size 800x600 with 2 Axes>"
      ]
     },
     "metadata": {},
     "output_type": "display_data"
    }
   ],
   "source": [
    "conf_matrix = confusion_matrix(y_test, binary_predictions)\n",
    "print(\"Confusion Matrix:\")\n",
    "print(conf_matrix)\n",
    "\n",
    "print(\"\\nClassification Report:\")\n",
    "print(classification_report(y_test, binary_predictions))\n",
    "\n",
    "\n",
    "\n",
    "\n",
    "import matplotlib.pyplot as plt\n",
    "import seaborn as sns\n",
    "\n",
    "# Heatmap oluşturma\n",
    "plt.figure(figsize=(8, 6))\n",
    "sns.heatmap(conf_matrix, annot=True, fmt=\"d\", cmap=\"Blues\")\n",
    "plt.title(\"Confusion Matrix (Linear Regression Classification)\")\n",
    "plt.xlabel(\"Tahmin Edilen Etiket\")\n",
    "plt.ylabel(\"Gerçek Etiket\")\n",
    "plt.show()"
   ]
  },
  {
   "cell_type": "code",
   "execution_count": null,
   "id": "3dc65c5f",
   "metadata": {},
   "outputs": [],
   "source": []
  }
 ],
 "metadata": {
  "kernelspec": {
   "display_name": "Python 3 (ipykernel)",
   "language": "python",
   "name": "python3"
  },
  "language_info": {
   "codemirror_mode": {
    "name": "ipython",
    "version": 3
   },
   "file_extension": ".py",
   "mimetype": "text/x-python",
   "name": "python",
   "nbconvert_exporter": "python",
   "pygments_lexer": "ipython3",
   "version": "3.11.5"
  }
 },
 "nbformat": 4,
 "nbformat_minor": 5
}
